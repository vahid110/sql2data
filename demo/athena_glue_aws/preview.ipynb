{
 "cells": [
  {
   "cell_type": "code",
   "execution_count": 1,
   "id": "preview-imports",
   "metadata": {},
   "outputs": [],
   "source": [
    "import os\n",
    "import pandas as pd\n",
    "import pyarrow.dataset as ds"
   ]
  },
  {
   "cell_type": "code",
   "execution_count": 2,
   "id": "preview-config",
   "metadata": {},
   "outputs": [],
   "source": [
    "# 🔧 CONFIGURATION\n",
    "LOCAL_PARQUET_DIR = \"logs_partitioned\"  # same as output-dir used in run_sqlxport.sh\n",
    "PARTITION_COLUMN = \"service\""
   ]
  },
  {
   "cell_type": "code",
   "execution_count": 3,
   "id": "preview-partitions",
   "metadata": {},
   "outputs": [
    {
     "name": "stdout",
     "output_type": "stream",
     "text": [
      "Available partitions:\n",
      "  - service=auth\n",
      "  - service=billing\n"
     ]
    }
   ],
   "source": [
    "# 📂 List all partitioned subfolders\n",
    "print(\"Available partitions:\")\n",
    "for root, dirs, files in os.walk(LOCAL_PARQUET_DIR):\n",
    "    for d in dirs:\n",
    "        if d.startswith(f\"{PARTITION_COLUMN}=\"):\n",
    "            print(f\"  - {d}\")\n",
    "    break"
   ]
  },
  {
   "cell_type": "code",
   "execution_count": 4,
   "id": "preview-load-data",
   "metadata": {},
   "outputs": [],
   "source": [
    "# 🧾 Load all Parquet files in the directory\n",
    "dataset = ds.dataset(LOCAL_PARQUET_DIR, format=\"parquet\", partitioning=\"hive\")\n",
    "df = dataset.to_table().to_pandas()"
   ]
  },
  {
   "cell_type": "code",
   "execution_count": 5,
   "id": "preview-inspect",
   "metadata": {},
   "outputs": [
    {
     "data": {
      "text/plain": [
       "id                    int64\n",
       "message              object\n",
       "timestamp    datetime64[ns]\n",
       "service              object\n",
       "dtype: object"
      ]
     },
     "execution_count": 5,
     "metadata": {},
     "output_type": "execute_result"
    }
   ],
   "source": [
    "# 🧠 Inspect schema and content\n",
    "df.dtypes"
   ]
  },
  {
   "cell_type": "code",
   "execution_count": 6,
   "id": "preview-preview-head",
   "metadata": {},
   "outputs": [
    {
     "data": {
      "text/html": [
       "<div>\n",
       "<style scoped>\n",
       "    .dataframe tbody tr th:only-of-type {\n",
       "        vertical-align: middle;\n",
       "    }\n",
       "\n",
       "    .dataframe tbody tr th {\n",
       "        vertical-align: top;\n",
       "    }\n",
       "\n",
       "    .dataframe thead th {\n",
       "        text-align: right;\n",
       "    }\n",
       "</style>\n",
       "<table border=\"1\" class=\"dataframe\">\n",
       "  <thead>\n",
       "    <tr style=\"text-align: right;\">\n",
       "      <th></th>\n",
       "      <th>id</th>\n",
       "      <th>message</th>\n",
       "      <th>timestamp</th>\n",
       "      <th>service</th>\n",
       "    </tr>\n",
       "  </thead>\n",
       "  <tbody>\n",
       "    <tr>\n",
       "      <th>0</th>\n",
       "      <td>2</td>\n",
       "      <td>Test message 2</td>\n",
       "      <td>2025-06-05 19:12:28.812518</td>\n",
       "      <td>auth</td>\n",
       "    </tr>\n",
       "    <tr>\n",
       "      <th>1</th>\n",
       "      <td>4</td>\n",
       "      <td>Test message 4</td>\n",
       "      <td>2025-06-05 19:12:28.812518</td>\n",
       "      <td>auth</td>\n",
       "    </tr>\n",
       "    <tr>\n",
       "      <th>2</th>\n",
       "      <td>6</td>\n",
       "      <td>Test message 6</td>\n",
       "      <td>2025-06-05 19:12:28.812518</td>\n",
       "      <td>auth</td>\n",
       "    </tr>\n",
       "    <tr>\n",
       "      <th>3</th>\n",
       "      <td>8</td>\n",
       "      <td>Test message 8</td>\n",
       "      <td>2025-06-05 19:12:28.812518</td>\n",
       "      <td>auth</td>\n",
       "    </tr>\n",
       "    <tr>\n",
       "      <th>4</th>\n",
       "      <td>10</td>\n",
       "      <td>Test message 10</td>\n",
       "      <td>2025-06-05 19:12:28.812518</td>\n",
       "      <td>auth</td>\n",
       "    </tr>\n",
       "  </tbody>\n",
       "</table>\n",
       "</div>"
      ],
      "text/plain": [
       "   id          message                  timestamp service\n",
       "0   2   Test message 2 2025-06-05 19:12:28.812518    auth\n",
       "1   4   Test message 4 2025-06-05 19:12:28.812518    auth\n",
       "2   6   Test message 6 2025-06-05 19:12:28.812518    auth\n",
       "3   8   Test message 8 2025-06-05 19:12:28.812518    auth\n",
       "4  10  Test message 10 2025-06-05 19:12:28.812518    auth"
      ]
     },
     "execution_count": 6,
     "metadata": {},
     "output_type": "execute_result"
    }
   ],
   "source": [
    "# 👀 Preview rows\n",
    "df.head()"
   ]
  },
  {
   "cell_type": "code",
   "execution_count": 7,
   "id": "preview-group",
   "metadata": {},
   "outputs": [
    {
     "data": {
      "text/plain": [
       "service\n",
       "auth       500\n",
       "billing    500\n",
       "dtype: int64"
      ]
     },
     "execution_count": 7,
     "metadata": {},
     "output_type": "execute_result"
    }
   ],
   "source": [
    "# 📊 Group by partition column\n",
    "df.groupby(PARTITION_COLUMN).size()"
   ]
  },
  {
   "cell_type": "code",
   "execution_count": null,
   "id": "62898e0b-ba52-47a9-b594-f456af9b9d63",
   "metadata": {},
   "outputs": [],
   "source": []
  }
 ],
 "metadata": {
  "kernelspec": {
   "display_name": "Python 3 (ipykernel)",
   "language": "python",
   "name": "python3"
  },
  "language_info": {
   "codemirror_mode": {
    "name": "ipython",
    "version": 3
   },
   "file_extension": ".py",
   "mimetype": "text/x-python",
   "name": "python",
   "nbconvert_exporter": "python",
   "pygments_lexer": "ipython3",
   "version": "3.13.3"
  }
 },
 "nbformat": 4,
 "nbformat_minor": 5
}
