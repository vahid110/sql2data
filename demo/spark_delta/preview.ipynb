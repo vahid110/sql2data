{
 "cells": [
  {
   "cell_type": "markdown",
   "id": "fe69e682",
   "metadata": {},
   "source": [
    "# 🔍 Preview Delta Lake Output"
   ]
  },
  {
   "cell_type": "code",
   "execution_count": null,
   "id": "09e13416",
   "metadata": {},
   "outputs": [],
   "source": [
    "import pandas as pd\n",
    "from pyspark.sql import SparkSession\n",
    "\n",
    "spark = SparkSession.builder \\\n",
    "    .appName(\"DeltaLakePreview\") \\\n",
    "    .config(\"spark.sql.extensions\", \"io.delta.sql.DeltaSparkSessionExtension\") \\\n",
    "    .config(\"spark.sql.catalog.spark_catalog\", \"org.apache.spark.sql.delta.catalog.DeltaCatalog\") \\\n",
    "    .getOrCreate()"
   ]
  },
  {
   "cell_type": "code",
   "execution_count": null,
   "id": "217ff906",
   "metadata": {},
   "outputs": [],
   "source": [
    "# Load the Delta Lake table\n",
    "df = spark.read.format(\"delta\").load(\"delta_output/\")\n",
    "df.show()"
   ]
  },
  {
   "cell_type": "code",
   "execution_count": null,
   "id": "f7f9063b",
   "metadata": {},
   "outputs": [],
   "source": [
    "# Convert to Pandas if needed\n",
    "pdf = df.toPandas()\n",
    "pdf.head()"
   ]
  }
 ],
 "metadata": {
  "kernelspec": {
   "display_name": "Python 3",
   "language": "python",
   "name": "python3"
  },
  "language_info": {
   "name": "python",
   "version": ""
  }
 },
 "nbformat": 4,
 "nbformat_minor": 5
}
